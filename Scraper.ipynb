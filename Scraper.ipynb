{
 "cells": [
  {
   "cell_type": "code",
   "execution_count": 1,
   "metadata": {},
   "outputs": [],
   "source": [
    "from pymongo import MongoClient\n",
    "import pprint\n",
    "\n",
    "import pandas as pd\n",
    "import matplotlib.pyplot as plt\n",
    "plt.style.use('fivethirtyeight')\n",
    "\n",
    "# Requests sends and recieves HTTP requests.\n",
    "import requests\n",
    "\n",
    "# Beautiful Soup parses HTML documents in python.\n",
    "from bs4 import BeautifulSoup\n",
    "\n",
    "import json\n",
    "import time\n",
    "import copy"
   ]
  },
  {
   "cell_type": "code",
   "execution_count": 2,
   "metadata": {},
   "outputs": [],
   "source": [
    "#Import URLs\n",
    "off_the_tee_url = 'https://www.pgatour.com/content/pgatour/stats/stat.02567.y2019.html'\n",
    "approach_url = 'https://www.pgatour.com/content/pgatour/stats/stat.02568.y2019.html'\n",
    "around_the_green_url = 'https://www.pgatour.com/content/pgatour/stats/stat.02569.y2019.html'\n",
    "putting_url = 'https://www.pgatour.com/content/pgatour/stats/stat.02564.y2019.html'"
   ]
  },
  {
   "cell_type": "code",
   "execution_count": 16,
   "metadata": {},
   "outputs": [],
   "source": [
    "#Request HTML\n",
    "tee = requests.get(off_the_tee_url)\n",
    "med_long = requests.get(approach_url)\n",
    "med_short = requests.get(around_the_green_url)\n",
    "putt = requests.get(putting_url)"
   ]
  },
  {
   "cell_type": "code",
   "execution_count": 17,
   "metadata": {},
   "outputs": [
    {
     "name": "stdout",
     "output_type": "stream",
     "text": [
      "200\n",
      "200\n",
      "200\n",
      "200\n"
     ]
    }
   ],
   "source": [
    "#Check status == 200 :: 200 implies the request was successfully processed\n",
    "requested = [tee, med_short, med_long, putt]\n",
    "for r in requested:\n",
    "    print(r.status_code)"
   ]
  },
  {
   "cell_type": "code",
   "execution_count": 18,
   "metadata": {},
   "outputs": [
    {
     "name": "stdout",
     "output_type": "stream",
     "text": [
      "('\\n'\n",
      " '\\n'\n",
      " '\\n'\n",
      " '\\n'\n",
      " '\\n'\n",
      " '\\n'\n",
      " '<!DOCTYPE HTML>\\n'\n",
      " '<html lang=\"en\" >\\n'\n",
      " '\\n'\n",
      " '    \\n'\n",
      " '    \\n'\n",
      " '        <head>\\n'\n",
      " '    <meta http-equiv=\"content-type\" content=\"text/html; charset=UTF-8\">\\n'\n",
      " '    <meta name=\"viewport\" content=\"width=device-width, initial-scale=1.0, '\n",
      " 'maximum-scale=1.0, user-scalable=no, shrink-to-fit=no\" />\\n'\n",
      " '\\n'\n",
      " '    <link rel=\"canonical\" '\n",
      " 'href=\"https://www.pgatour.com/stats/stat.02567.y2019.html\"/>\\n'\n",
      " '<meta name=\"title\" content=\"SG: Off-the-Tee | PGA TOUR Stats\" />\\n'\n",
      " '<meta name=\"description\" content=\"Strokes Gained | Distance (All Drives) | '\n",
      " 'Distance (Measured Drives) | Accuracy | Scoring | Other | Radar\" />\\n'\n",
      " '<meta name=\"msApplication-ID\" content=\"pga-tour/9wzdncrfhz2c\"/>\\n'\n",
      " '\\n'\n",
      " '<meta name=\"google-site-verification\" '\n",
      " 'content=\"xp_dFTcmlaq2Fgq3gyZfIjWo0KjdEC4cfaO4nWx5yPA\" />\\n'\n",
      " '<!-- Google Authorship and Publisher Markup -->\\n'\n",
      " '<!-- Schema.org markup for Google+ http://schema.org/Article -->\\n'\n",
      " '<meta itemprop=\"name\" content=\"SG: Off-the-Tee | PGA TOUR Stats\"/>\\n'\n",
      " '<meta itemprop=\"description\" content=\"Strokes Gained | Distance (All Drives) '\n",
      " '| Distance (Measu')\n",
      "('\\n'\n",
      " '\\n'\n",
      " '\\n'\n",
      " '\\n'\n",
      " '\\n'\n",
      " '\\n'\n",
      " '<!DOCTYPE HTML>\\n'\n",
      " '<html lang=\"en\" >\\n'\n",
      " '\\n'\n",
      " '    \\n'\n",
      " '    \\n'\n",
      " '        <head>\\n'\n",
      " '    <meta http-equiv=\"content-type\" content=\"text/html; charset=UTF-8\">\\n'\n",
      " '    <meta name=\"viewport\" content=\"width=device-width, initial-scale=1.0, '\n",
      " 'maximum-scale=1.0, user-scalable=no, shrink-to-fit=no\" />\\n'\n",
      " '\\n'\n",
      " '    <link rel=\"canonical\" '\n",
      " 'href=\"https://www.pgatour.com/stats/stat.02569.y2019.html\"/>\\n'\n",
      " '<meta name=\"title\" content=\"SG: Around-the-Green | PGA TOUR Stats\" />\\n'\n",
      " '<meta name=\"description\" content=\"Stokes Gained | Up and Down | Accuracy | '\n",
      " 'Scoring\" />\\n'\n",
      " '<meta name=\"msApplication-ID\" content=\"pga-tour/9wzdncrfhz2c\"/>\\n'\n",
      " '\\n'\n",
      " '<meta name=\"google-site-verification\" '\n",
      " 'content=\"xp_dFTcmlaq2Fgq3gyZfIjWo0KjdEC4cfaO4nWx5yPA\" />\\n'\n",
      " '<!-- Google Authorship and Publisher Markup -->\\n'\n",
      " '<!-- Schema.org markup for Google+ http://schema.org/Article -->\\n'\n",
      " '<meta itemprop=\"name\" content=\"SG: Around-the-Green | PGA TOUR Stats\"/>\\n'\n",
      " '<meta itemprop=\"description\" content=\"Stokes Gained | Up and Down | Accuracy '\n",
      " '| Scoring\"/>\\n'\n",
      " '<meta itemprop=\"image\" content=\"https://www.pgatou')\n",
      "('\\n'\n",
      " '\\n'\n",
      " '\\n'\n",
      " '\\n'\n",
      " '\\n'\n",
      " '\\n'\n",
      " '<!DOCTYPE HTML>\\n'\n",
      " '<html lang=\"en\" >\\n'\n",
      " '\\n'\n",
      " '    \\n'\n",
      " '    \\n'\n",
      " '        <head>\\n'\n",
      " '    <meta http-equiv=\"content-type\" content=\"text/html; charset=UTF-8\">\\n'\n",
      " '    <meta name=\"viewport\" content=\"width=device-width, initial-scale=1.0, '\n",
      " 'maximum-scale=1.0, user-scalable=no, shrink-to-fit=no\" />\\n'\n",
      " '\\n'\n",
      " '    <link rel=\"canonical\" '\n",
      " 'href=\"https://www.pgatour.com/stats/stat.02568.y2019.html\"/>\\n'\n",
      " '<meta name=\"title\" content=\"SG: Approach the Green | PGA TOUR Stats\" />\\n'\n",
      " '<meta name=\"description\" content=\"Strokes Gained | Greens in Regulation | '\n",
      " 'Accuracy from Fairway | Accuracy from Rough | Scoring | Going for it | '\n",
      " 'Holeouts, Other\" />\\n'\n",
      " '<meta name=\"msApplication-ID\" content=\"pga-tour/9wzdncrfhz2c\"/>\\n'\n",
      " '\\n'\n",
      " '<meta name=\"google-site-verification\" '\n",
      " 'content=\"xp_dFTcmlaq2Fgq3gyZfIjWo0KjdEC4cfaO4nWx5yPA\" />\\n'\n",
      " '<!-- Google Authorship and Publisher Markup -->\\n'\n",
      " '<!-- Schema.org markup for Google+ http://schema.org/Article -->\\n'\n",
      " '<meta itemprop=\"name\" content=\"SG: Approach the Green | PGA TOUR Stats\"/>\\n'\n",
      " '<meta itemprop=\"description\" content=\"Strokes Gained | Gre')\n",
      "('\\n'\n",
      " '\\n'\n",
      " '\\n'\n",
      " '\\n'\n",
      " '\\n'\n",
      " '\\n'\n",
      " '<!DOCTYPE HTML>\\n'\n",
      " '<html lang=\"en\" >\\n'\n",
      " '\\n'\n",
      " '    \\n'\n",
      " '    \\n'\n",
      " '        <head>\\n'\n",
      " '    <meta http-equiv=\"content-type\" content=\"text/html; charset=UTF-8\">\\n'\n",
      " '    <meta name=\"viewport\" content=\"width=device-width, initial-scale=1.0, '\n",
      " 'maximum-scale=1.0, user-scalable=no, shrink-to-fit=no\" />\\n'\n",
      " '\\n'\n",
      " '    <link rel=\"canonical\" '\n",
      " 'href=\"https://www.pgatour.com/stats/stat.02564.y2019.html\"/>\\n'\n",
      " '<meta name=\"title\" content=\"SG: Putting | PGA TOUR Stats\" />\\n'\n",
      " '<meta name=\"description\" content=\"Strokes Gained | One-Putts | Three-Putts | '\n",
      " 'All Putts Made by Dist. | GIR Putts Made by Dist. | Putts per Round | '\n",
      " 'Putting Averages | Avg. Putting Dist.\" />\\n'\n",
      " '<meta name=\"msApplication-ID\" content=\"pga-tour/9wzdncrfhz2c\"/>\\n'\n",
      " '\\n'\n",
      " '<meta name=\"google-site-verification\" '\n",
      " 'content=\"xp_dFTcmlaq2Fgq3gyZfIjWo0KjdEC4cfaO4nWx5yPA\" />\\n'\n",
      " '<!-- Google Authorship and Publisher Markup -->\\n'\n",
      " '<!-- Schema.org markup for Google+ http://schema.org/Article -->\\n'\n",
      " '<meta itemprop=\"name\" content=\"SG: Putting | PGA TOUR Stats\"/>\\n'\n",
      " '<meta itemprop=\"description\" content=\"Strokes Gained | O')\n"
     ]
    }
   ],
   "source": [
    "#Print sample HTML from each request\n",
    "for r in requested:\n",
    "    pprint.pprint(r.text[:1000])"
   ]
  },
  {
   "cell_type": "code",
   "execution_count": 21,
   "metadata": {},
   "outputs": [
    {
     "data": {
      "text/plain": [
       "['admin', 'config', 'golf', 'local']"
      ]
     },
     "execution_count": 21,
     "metadata": {},
     "output_type": "execute_result"
    }
   ],
   "source": [
    "#Save HTML into a MongoDB\n",
    "client = MongoClient()\n",
    "golf_db = client.golf\n",
    "long_html = golf_db.long\n",
    "med_long_html = golf_db.med_long\n",
    "med_short_html = golf_db.med_short\n",
    "short_html = golf_db.short\n",
    "\n",
    "long_html.insert_one({'link': off_the_tee_url, 'html': tee.text})\n",
    "med_long_html.insert_one({'link': approach_url, 'html': med_long.text})\n",
    "med_short_html.insert_one({'link': around_the_green_url, 'html': med_short.text})\n",
    "short_html.insert_one({'link': putting_url, 'html': putt.text})\n",
    "\n",
    "client.list_database_names()"
   ]
  },
  {
   "cell_type": "code",
   "execution_count": null,
   "metadata": {},
   "outputs": [],
   "source": []
  }
 ],
 "metadata": {
  "kernelspec": {
   "display_name": "Python 3",
   "language": "python",
   "name": "python3"
  },
  "language_info": {
   "codemirror_mode": {
    "name": "ipython",
    "version": 3
   },
   "file_extension": ".py",
   "mimetype": "text/x-python",
   "name": "python",
   "nbconvert_exporter": "python",
   "pygments_lexer": "ipython3",
   "version": "3.7.7"
  }
 },
 "nbformat": 4,
 "nbformat_minor": 4
}
