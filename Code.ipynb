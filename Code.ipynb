{
 "cells": [
  {
   "cell_type": "code",
   "execution_count": 1,
   "metadata": {},
   "outputs": [],
   "source": [
    "from pymongo import MongoClient\n",
    "import pprint\n",
    "\n",
    "from scipy import stats\n",
    "\n",
    "import numpy as np\n",
    "import pandas as pd\n",
    "import matplotlib.pyplot as plt\n",
    "plt.style.use('fivethirtyeight')\n",
    "\n",
    "# Requests sends and recieves HTTP requests.\n",
    "import requests\n",
    "\n",
    "# Beautiful Soup parses HTML documents in python.\n",
    "from bs4 import BeautifulSoup\n",
    "\n",
    "import json\n",
    "import time\n",
    "import copy"
   ]
  },
  {
   "cell_type": "code",
   "execution_count": 2,
   "metadata": {},
   "outputs": [],
   "source": [
    "#Import URLs\n",
    "off_the_tee_url = 'https://www.pgatour.com/content/pgatour/stats/stat.02567.y2019.html'\n",
    "approach_url = 'https://www.pgatour.com/content/pgatour/stats/stat.02568.y2019.html'\n",
    "around_the_green_url = 'https://www.pgatour.com/content/pgatour/stats/stat.02569.y2019.html'\n",
    "putting_url = 'https://www.pgatour.com/content/pgatour/stats/stat.02564.y2019.html'\n",
    "total_url = 'https://www.pgatour.com/content/pgatour/stats/stat.02675.y2020.html'\n",
    "scoring_url = 'https://www.pgatour.com/stats/stat.120.y2019.html'"
   ]
  },
  {
   "cell_type": "code",
   "execution_count": 3,
   "metadata": {},
   "outputs": [],
   "source": [
    "#Request HTML\n",
    "tee = requests.get(off_the_tee_url)\n",
    "med_long = requests.get(approach_url)\n",
    "med_short = requests.get(around_the_green_url)\n",
    "putt = requests.get(putting_url)\n",
    "total = requests.get(total_url)\n",
    "scoring_avg = requests.get(scoring_url)"
   ]
  },
  {
   "cell_type": "code",
   "execution_count": 4,
   "metadata": {},
   "outputs": [
    {
     "name": "stdout",
     "output_type": "stream",
     "text": [
      "200\n",
      "200\n",
      "200\n",
      "200\n",
      "200\n",
      "200\n"
     ]
    }
   ],
   "source": [
    "#Check status == 200 :: 200 implies the request was successfully processed\n",
    "requested = [tee, med_short, med_long, putt, total,scoring_avg]\n",
    "for r in requested:\n",
    "    print(r.status_code)"
   ]
  },
  {
   "cell_type": "code",
   "execution_count": 5,
   "metadata": {},
   "outputs": [
    {
     "name": "stdout",
     "output_type": "stream",
     "text": [
      "('\\n'\n",
      " '\\n'\n",
      " '\\n'\n",
      " '\\n'\n",
      " '\\n'\n",
      " '\\n'\n",
      " '<!DOCTYPE HTML>\\n'\n",
      " '<html lang=\"en\" >\\n'\n",
      " '\\n'\n",
      " '    \\n'\n",
      " '    \\n'\n",
      " '        <head>\\n'\n",
      " '    <meta http-equiv=\"content-type\" content=\"text/html; charset=UTF-8\">\\n'\n",
      " '    <meta name=\"viewport\" content=\"width=device-width, initial-scale=1.0, '\n",
      " 'maximum-scale=1.0, user-scalable=no, shrink-to-fit=no\" />\\n'\n",
      " '\\n'\n",
      " '    <link rel=\"canonical\" '\n",
      " 'href=\"https://www.pgatour.com/stats/stat.02567.y2019.html\"/>\\n'\n",
      " '<meta name=\"title\" content=\"SG: Off-the-Tee | PGA TOUR Stats\" />\\n'\n",
      " '<meta name=\"description\" content=\"Strokes Gained | Distance (All Drives) | '\n",
      " 'Distance (Measured Drives) | Accuracy | Scoring | Other | Radar\" />\\n'\n",
      " '<meta name=\"msApplication-ID\" content=\"pga-tour/9wzdncrfhz2c\"/>\\n'\n",
      " '\\n'\n",
      " '<meta name=\"google-site-verification\" '\n",
      " 'content=\"xp_dFTcmlaq2Fgq3gyZfIjWo0KjdEC4cfaO4nWx5yPA\" />\\n'\n",
      " '<!-- Google Authorship and Publisher Markup -->\\n'\n",
      " '<!-- Schema.org markup for Google+ http://schema.org/Article -->\\n'\n",
      " '<meta itemprop=\"name\" content=\"SG: Off-the-Tee | PGA TOUR Stats\"/>\\n'\n",
      " '<meta itemprop=\"description\" content=\"Strokes Gained | Distance (All Drives) '\n",
      " '| Distance (Measu')\n",
      "('\\n'\n",
      " '\\n'\n",
      " '\\n'\n",
      " '\\n'\n",
      " '\\n'\n",
      " '\\n'\n",
      " '<!DOCTYPE HTML>\\n'\n",
      " '<html lang=\"en\" >\\n'\n",
      " '\\n'\n",
      " '    \\n'\n",
      " '    \\n'\n",
      " '        <head>\\n'\n",
      " '    <meta http-equiv=\"content-type\" content=\"text/html; charset=UTF-8\">\\n'\n",
      " '    <meta name=\"viewport\" content=\"width=device-width, initial-scale=1.0, '\n",
      " 'maximum-scale=1.0, user-scalable=no, shrink-to-fit=no\" />\\n'\n",
      " '\\n'\n",
      " '    <link rel=\"canonical\" '\n",
      " 'href=\"https://www.pgatour.com/stats/stat.02569.y2019.html\"/>\\n'\n",
      " '<meta name=\"title\" content=\"SG: Around-the-Green | PGA TOUR Stats\" />\\n'\n",
      " '<meta name=\"description\" content=\"Stokes Gained | Up and Down | Accuracy | '\n",
      " 'Scoring\" />\\n'\n",
      " '<meta name=\"msApplication-ID\" content=\"pga-tour/9wzdncrfhz2c\"/>\\n'\n",
      " '\\n'\n",
      " '<meta name=\"google-site-verification\" '\n",
      " 'content=\"xp_dFTcmlaq2Fgq3gyZfIjWo0KjdEC4cfaO4nWx5yPA\" />\\n'\n",
      " '<!-- Google Authorship and Publisher Markup -->\\n'\n",
      " '<!-- Schema.org markup for Google+ http://schema.org/Article -->\\n'\n",
      " '<meta itemprop=\"name\" content=\"SG: Around-the-Green | PGA TOUR Stats\"/>\\n'\n",
      " '<meta itemprop=\"description\" content=\"Stokes Gained | Up and Down | Accuracy '\n",
      " '| Scoring\"/>\\n'\n",
      " '<meta itemprop=\"image\" content=\"https://www.pgatou')\n",
      "('\\n'\n",
      " '\\n'\n",
      " '\\n'\n",
      " '\\n'\n",
      " '\\n'\n",
      " '\\n'\n",
      " '<!DOCTYPE HTML>\\n'\n",
      " '<html lang=\"en\" >\\n'\n",
      " '\\n'\n",
      " '    \\n'\n",
      " '    \\n'\n",
      " '        <head>\\n'\n",
      " '    <meta http-equiv=\"content-type\" content=\"text/html; charset=UTF-8\">\\n'\n",
      " '    <meta name=\"viewport\" content=\"width=device-width, initial-scale=1.0, '\n",
      " 'maximum-scale=1.0, user-scalable=no, shrink-to-fit=no\" />\\n'\n",
      " '\\n'\n",
      " '    <link rel=\"canonical\" '\n",
      " 'href=\"https://www.pgatour.com/stats/stat.02568.y2019.html\"/>\\n'\n",
      " '<meta name=\"title\" content=\"SG: Approach the Green | PGA TOUR Stats\" />\\n'\n",
      " '<meta name=\"description\" content=\"Strokes Gained | Greens in Regulation | '\n",
      " 'Accuracy from Fairway | Accuracy from Rough | Scoring | Going for it | '\n",
      " 'Holeouts, Other\" />\\n'\n",
      " '<meta name=\"msApplication-ID\" content=\"pga-tour/9wzdncrfhz2c\"/>\\n'\n",
      " '\\n'\n",
      " '<meta name=\"google-site-verification\" '\n",
      " 'content=\"xp_dFTcmlaq2Fgq3gyZfIjWo0KjdEC4cfaO4nWx5yPA\" />\\n'\n",
      " '<!-- Google Authorship and Publisher Markup -->\\n'\n",
      " '<!-- Schema.org markup for Google+ http://schema.org/Article -->\\n'\n",
      " '<meta itemprop=\"name\" content=\"SG: Approach the Green | PGA TOUR Stats\"/>\\n'\n",
      " '<meta itemprop=\"description\" content=\"Strokes Gained | Gre')\n",
      "('\\n'\n",
      " '\\n'\n",
      " '\\n'\n",
      " '\\n'\n",
      " '\\n'\n",
      " '\\n'\n",
      " '<!DOCTYPE HTML>\\n'\n",
      " '<html lang=\"en\" >\\n'\n",
      " '\\n'\n",
      " '    \\n'\n",
      " '    \\n'\n",
      " '        <head>\\n'\n",
      " '    <meta http-equiv=\"content-type\" content=\"text/html; charset=UTF-8\">\\n'\n",
      " '    <meta name=\"viewport\" content=\"width=device-width, initial-scale=1.0, '\n",
      " 'maximum-scale=1.0, user-scalable=no, shrink-to-fit=no\" />\\n'\n",
      " '\\n'\n",
      " '    <link rel=\"canonical\" '\n",
      " 'href=\"https://www.pgatour.com/stats/stat.02564.y2019.html\"/>\\n'\n",
      " '<meta name=\"title\" content=\"SG: Putting | PGA TOUR Stats\" />\\n'\n",
      " '<meta name=\"description\" content=\"Strokes Gained | One-Putts | Three-Putts | '\n",
      " 'All Putts Made by Dist. | GIR Putts Made by Dist. | Putts per Round | '\n",
      " 'Putting Averages | Avg. Putting Dist.\" />\\n'\n",
      " '<meta name=\"msApplication-ID\" content=\"pga-tour/9wzdncrfhz2c\"/>\\n'\n",
      " '\\n'\n",
      " '<meta name=\"google-site-verification\" '\n",
      " 'content=\"xp_dFTcmlaq2Fgq3gyZfIjWo0KjdEC4cfaO4nWx5yPA\" />\\n'\n",
      " '<!-- Google Authorship and Publisher Markup -->\\n'\n",
      " '<!-- Schema.org markup for Google+ http://schema.org/Article -->\\n'\n",
      " '<meta itemprop=\"name\" content=\"SG: Putting | PGA TOUR Stats\"/>\\n'\n",
      " '<meta itemprop=\"description\" content=\"Strokes Gained | O')\n",
      "('\\n'\n",
      " '\\n'\n",
      " '\\n'\n",
      " '\\n'\n",
      " '\\n'\n",
      " '\\n'\n",
      " '<!DOCTYPE HTML>\\n'\n",
      " '<html lang=\"en\" >\\n'\n",
      " '\\n'\n",
      " '    \\n'\n",
      " '    \\n'\n",
      " '        <head>\\n'\n",
      " '    <meta http-equiv=\"content-type\" content=\"text/html; charset=UTF-8\">\\n'\n",
      " '    <meta name=\"viewport\" content=\"width=device-width, initial-scale=1.0, '\n",
      " 'maximum-scale=1.0, user-scalable=no, shrink-to-fit=no\" />\\n'\n",
      " '\\n'\n",
      " '    <link rel=\"canonical\" '\n",
      " 'href=\"https://www.pgatour.com/stats/stat.02675.y2020.html\"/>\\n'\n",
      " '<meta name=\"title\" content=\"SG: Total | PGA TOUR Stats\" />\\n'\n",
      " '<meta name=\"description\" content=\"Strokes Gained | Scoring Overall | Under '\n",
      " 'Par Scoring | Over Par Scoring | Scoring by Round | Par 3,4,5 Scoring | '\n",
      " 'Front 9 Scoring | Back 9 Scoring | Early Scoring | Late Scoring | Scoring '\n",
      " 'Off the 1st Tee | Scoring Off the 10th Tee | Efficiency Scoring\" />\\n'\n",
      " '<meta name=\"msApplication-ID\" content=\"pga-tour/9wzdncrfhz2c\"/>\\n'\n",
      " '\\n'\n",
      " '<meta name=\"google-site-verification\" '\n",
      " 'content=\"xp_dFTcmlaq2Fgq3gyZfIjWo0KjdEC4cfaO4nWx5yPA\" />\\n'\n",
      " '<!-- Google Authorship and Publisher Markup -->\\n'\n",
      " '<!-- Schema.org markup for Google+ http://schema.org/Article -->\\n'\n",
      " '<meta itemprop=\"name\"')\n",
      "('\\n'\n",
      " '\\n'\n",
      " '\\n'\n",
      " '\\n'\n",
      " '\\n'\n",
      " '\\n'\n",
      " '<!DOCTYPE HTML>\\n'\n",
      " '<html lang=\"en\" >\\n'\n",
      " '\\n'\n",
      " '    \\n'\n",
      " '    \\n'\n",
      " '        <head>\\n'\n",
      " '    <meta http-equiv=\"content-type\" content=\"text/html; charset=UTF-8\">\\n'\n",
      " '    <meta name=\"viewport\" content=\"width=device-width, initial-scale=1.0, '\n",
      " 'maximum-scale=1.0, user-scalable=no, shrink-to-fit=no\" />\\n'\n",
      " '\\n'\n",
      " '    <link rel=\"canonical\" '\n",
      " 'href=\"https://www.pgatour.com/stats/stat.120.y2019.html\"/>\\n'\n",
      " '<meta name=\"title\" content=\"Scoring Average | PGA TOUR Stats\" />\\n'\n",
      " '<meta name=\"description\" content=\"Strokes Gained | Scoring Overall | Under '\n",
      " 'Par Scoring | Over Par Scoring | Scoring by Round | Par 3,4,5 Scoring | '\n",
      " 'Front 9 Scoring | Back 9 Scoring | Early Scoring | Late Scoring | Scoring '\n",
      " 'Off the 1st Tee | Scoring Off the 10th Tee | Efficiency Scoring\" />\\n'\n",
      " '<meta name=\"msApplication-ID\" content=\"pga-tour/9wzdncrfhz2c\"/>\\n'\n",
      " '\\n'\n",
      " '<meta name=\"google-site-verification\" '\n",
      " 'content=\"xp_dFTcmlaq2Fgq3gyZfIjWo0KjdEC4cfaO4nWx5yPA\" />\\n'\n",
      " '<!-- Google Authorship and Publisher Markup -->\\n'\n",
      " '<!-- Schema.org markup for Google+ http://schema.org/Article -->\\n'\n",
      " '<meta itemprop=\"n')\n"
     ]
    }
   ],
   "source": [
    "#Print sample HTML from each request\n",
    "for r in requested:\n",
    "    pprint.pprint(r.text[:1000])"
   ]
  },
  {
   "cell_type": "code",
   "execution_count": 8,
   "metadata": {},
   "outputs": [
    {
     "data": {
      "text/plain": [
       "['admin', 'config', 'golf', 'local']"
      ]
     },
     "execution_count": 8,
     "metadata": {},
     "output_type": "execute_result"
    }
   ],
   "source": [
    "#Save HTML into a MongoDB\n",
    "client = MongoClient()\n",
    "golf_db = client.golf\n",
    "long_html = golf_db.long\n",
    "med_long_html = golf_db.med_long\n",
    "med_short_html = golf_db.med_short\n",
    "short_html = golf_db.short\n",
    "total_html = golf_db.total\n",
    "scoring_html = golf_db.scoring\n",
    "\n",
    "long_html.insert_one({'link': off_the_tee_url, 'html': tee.text})\n",
    "med_long_html.insert_one({'link': approach_url, 'html': med_long.text})\n",
    "med_short_html.insert_one({'link': around_the_green_url, 'html': med_short.text})\n",
    "short_html.insert_one({'link': putting_url, 'html': putt.text})\n",
    "total_html.insert_one({'link': total_url, 'html': total.text})\n",
    "scoring_html.insert_one({'link': scoring_url, 'html': scoring_avg.text})\n",
    "client.list_database_names()"
   ]
  },
  {
   "cell_type": "code",
   "execution_count": 9,
   "metadata": {},
   "outputs": [],
   "source": [
    "#Parse HTML\n",
    "soup_tee = BeautifulSoup(tee.text, 'html.parser')\n",
    "soup_med_long = BeautifulSoup(med_long.text, 'html.parser')\n",
    "soup_med_short = BeautifulSoup(med_short.text, 'html.parser')\n",
    "soup_putt = BeautifulSoup(putt.text, 'html.parser')\n",
    "soup_total = BeautifulSoup(total.text, 'html.parser')\n",
    "soup_scoreing = BeautifulSoup(scoring_avg.text, 'html.parser')"
   ]
  },
  {
   "cell_type": "code",
   "execution_count": 15,
   "metadata": {},
   "outputs": [
    {
     "name": "stdout",
     "output_type": "stream",
     "text": [
      "{}\n",
      "{'class': ['table-styled'], 'id': 'statsTable'}\n"
     ]
    }
   ],
   "source": [
    "#Search HTML for table\n",
    "table_search = soup_tee.find_all('table')\n",
    "for table in table_search:\n",
    "    print(table.attrs)"
   ]
  },
  {
   "cell_type": "code",
   "execution_count": 17,
   "metadata": {},
   "outputs": [
    {
     "name": "stdout",
     "output_type": "stream",
     "text": [
      "{}\n",
      "{'class': ['table-styled'], 'id': 'statsTable'}\n"
     ]
    }
   ],
   "source": [
    "table_search = soup_med_long.find_all('table')\n",
    "for table in table_search:\n",
    "    print(table.attrs)"
   ]
  },
  {
   "cell_type": "code",
   "execution_count": 23,
   "metadata": {},
   "outputs": [
    {
     "name": "stdout",
     "output_type": "stream",
     "text": [
      "{}\n",
      "{'class': ['table-styled'], 'id': 'statsTable'}\n"
     ]
    }
   ],
   "source": [
    "table_search = soup_med_short.find_all('table')\n",
    "for table in table_search:\n",
    "    print(table.attrs)"
   ]
  },
  {
   "cell_type": "code",
   "execution_count": 20,
   "metadata": {},
   "outputs": [
    {
     "name": "stdout",
     "output_type": "stream",
     "text": [
      "{}\n",
      "{'class': ['table-styled'], 'id': 'statsTable'}\n"
     ]
    }
   ],
   "source": [
    "table_search = soup_putt.find_all('table')\n",
    "for table in table_search:\n",
    "    print(table.attrs)"
   ]
  },
  {
   "cell_type": "code",
   "execution_count": 21,
   "metadata": {},
   "outputs": [
    {
     "name": "stdout",
     "output_type": "stream",
     "text": [
      "{}\n",
      "{'class': ['table-styled'], 'id': 'statsTable'}\n"
     ]
    }
   ],
   "source": [
    "table_search = soup_total.find_all('table')\n",
    "for table in table_search:\n",
    "    print(table.attrs)"
   ]
  },
  {
   "cell_type": "code",
   "execution_count": 22,
   "metadata": {},
   "outputs": [
    {
     "name": "stdout",
     "output_type": "stream",
     "text": [
      "{}\n",
      "{'class': ['table-styled'], 'id': 'statsTable'}\n"
     ]
    }
   ],
   "source": [
    "table_search = soup_scoreing.find_all('table')\n",
    "for table in table_search:\n",
    "    print(table.attrs)"
   ]
  },
  {
   "cell_type": "code",
   "execution_count": 24,
   "metadata": {},
   "outputs": [],
   "source": [
    "#All tables have class attribute 'table-styled'\n",
    "#Functionalize getting data from each\n",
    "def get_list_from_soup(soup_object):\n",
    "    data = []\n",
    "    table = soup_object.find('table', attrs={'class':'table-styled'})\n",
    "    table_body = table.find('tbody')\n",
    "\n",
    "    rows = table_body.find_all('tr')\n",
    "    for row in rows:\n",
    "        cols = row.find_all('td')\n",
    "        cols = [ele.text.strip() for ele in cols]\n",
    "        data.append([ele for ele in cols if ele])\n",
    "        \n",
    "    return data"
   ]
  },
  {
   "cell_type": "code",
   "execution_count": 25,
   "metadata": {},
   "outputs": [],
   "source": [
    "#Plug soup objects into function above\n",
    "tee_data = get_list_from_soup(soup_tee)\n",
    "approach_data = get_list_from_soup(soup_med_long)\n",
    "chip_data = get_list_from_soup(soup_med_short)\n",
    "putt_data = get_list_from_soup(soup_putt)\n",
    "total_data = get_list_from_soup(soup_total)\n",
    "scoring_data = get_list_from_soup(soup_scoreing)"
   ]
  },
  {
   "cell_type": "code",
   "execution_count": 33,
   "metadata": {},
   "outputs": [
    {
     "ename": "SyntaxError",
     "evalue": "invalid syntax (<ipython-input-33-36623e3fbadd>, line 2)",
     "output_type": "error",
     "traceback": [
      "\u001b[0;36m  File \u001b[0;32m\"<ipython-input-33-36623e3fbadd>\"\u001b[0;36m, line \u001b[0;32m2\u001b[0m\n\u001b[0;31m    print(/n)\u001b[0m\n\u001b[0m          ^\u001b[0m\n\u001b[0;31mSyntaxError\u001b[0m\u001b[0;31m:\u001b[0m invalid syntax\n"
     ]
    }
   ],
   "source": [
    "print (tee_data[:5])\n",
    "print(/n)\n",
    "print (tee_data[-5:-1])"
   ]
  },
  {
   "cell_type": "code",
   "execution_count": null,
   "metadata": {},
   "outputs": [],
   "source": [
    "approach_data"
   ]
  },
  {
   "cell_type": "code",
   "execution_count": null,
   "metadata": {},
   "outputs": [],
   "source": [
    "chip_data"
   ]
  },
  {
   "cell_type": "code",
   "execution_count": null,
   "metadata": {},
   "outputs": [],
   "source": [
    "putt_data"
   ]
  },
  {
   "cell_type": "code",
   "execution_count": null,
   "metadata": {},
   "outputs": [],
   "source": [
    "total_data"
   ]
  },
  {
   "cell_type": "code",
   "execution_count": null,
   "metadata": {},
   "outputs": [],
   "source": [
    "scoring_data"
   ]
  },
  {
   "cell_type": "code",
   "execution_count": null,
   "metadata": {},
   "outputs": [],
   "source": [
    "tee_trimmed = [[x[0], x[2], x[4]] for x in tee_data]\n",
    "approach_trimmed = [[x[0], x[2], x[4]] for x in approach_data]\n",
    "chip_trimmed = [[x[0], x[2], x[4]] for x in chip_data]\n",
    "putt_trimmed = [[x[0], x[2], x[4]] for x in putt_data]\n",
    "scoring_trimmed = [[x[2], x[4]] for x in scoring_data]"
   ]
  },
  {
   "cell_type": "code",
   "execution_count": null,
   "metadata": {},
   "outputs": [],
   "source": [
    "tee_trimmed"
   ]
  },
  {
   "cell_type": "code",
   "execution_count": null,
   "metadata": {},
   "outputs": [],
   "source": [
    "approach_trimmed"
   ]
  },
  {
   "cell_type": "code",
   "execution_count": null,
   "metadata": {},
   "outputs": [],
   "source": [
    "chip_trimmed"
   ]
  },
  {
   "cell_type": "code",
   "execution_count": null,
   "metadata": {},
   "outputs": [],
   "source": [
    "putt_trimmed"
   ]
  },
  {
   "cell_type": "code",
   "execution_count": null,
   "metadata": {},
   "outputs": [],
   "source": [
    "scoring_trimmed"
   ]
  },
  {
   "cell_type": "code",
   "execution_count": null,
   "metadata": {},
   "outputs": [],
   "source": [
    "print(f'{len(tee_trimmed)} values in tee')\n",
    "print(f'{len(approach_trimmed)} values in approach')\n",
    "print(f'{len(chip_trimmed)} values in chip')\n",
    "print(f'{len(putt_trimmed)} values in putt')"
   ]
  },
  {
   "cell_type": "code",
   "execution_count": null,
   "metadata": {},
   "outputs": [],
   "source": [
    "tee_df = pd.DataFrame(tee_trimmed, columns = ['tee_rank', 'name', 'tee_strokes_gained'])\n",
    "tee_df"
   ]
  },
  {
   "cell_type": "code",
   "execution_count": null,
   "metadata": {},
   "outputs": [],
   "source": [
    "approach_df = pd.DataFrame(approach_trimmed, columns = ['approach_rank', 'name', 'approach_strokes_gained'])\n",
    "approach_df"
   ]
  },
  {
   "cell_type": "code",
   "execution_count": null,
   "metadata": {},
   "outputs": [],
   "source": [
    "chip_df = pd.DataFrame(chip_trimmed, columns = ['chip_rank', 'name', 'chip_strokes_gained'])\n",
    "chip_df"
   ]
  },
  {
   "cell_type": "code",
   "execution_count": null,
   "metadata": {},
   "outputs": [],
   "source": [
    "putt_df = pd.DataFrame(putt_trimmed, columns = ['putt_rank', 'name', 'putt_strokes_gained'])\n",
    "putt_df"
   ]
  },
  {
   "cell_type": "code",
   "execution_count": null,
   "metadata": {},
   "outputs": [],
   "source": [
    "scoring_df = pd.DataFrame(scoring_trimmed, columns = ['name', 'scoring_average'])\n",
    "scoring_df"
   ]
  },
  {
   "cell_type": "code",
   "execution_count": null,
   "metadata": {},
   "outputs": [],
   "source": [
    "#Merge DataFrames\n",
    "golf_df = pd.merge(tee_df, approach_df, how = 'left', on = 'name')\n",
    "golf_df = pd.merge(golf_df, chip_df, how = 'left', on = 'name')\n",
    "golf_df = pd.merge(golf_df, putt_df, how = 'left', on = 'name')\n",
    "golf_df = pd.merge(golf_df, scoring_df, how = 'left', on = 'name')\n",
    "golf_df"
   ]
  },
  {
   "cell_type": "code",
   "execution_count": null,
   "metadata": {},
   "outputs": [],
   "source": [
    "#Rearrange columns\n",
    "cols = golf_df.columns.tolist()\n",
    "cols = [cols[1],cols[0]] + cols[2:]\n",
    "golf_df = golf_df[cols]\n",
    "golf_df"
   ]
  },
  {
   "cell_type": "code",
   "execution_count": null,
   "metadata": {},
   "outputs": [],
   "source": [
    "golf_df.info()"
   ]
  },
  {
   "cell_type": "code",
   "execution_count": null,
   "metadata": {},
   "outputs": [],
   "source": [
    "#Strip rankings of T in ties\n",
    "rankings = ['tee_rank', 'approach_rank', 'chip_rank', 'putt_rank']\n",
    "for series in rankings:\n",
    "    for string in series:\n",
    "        golf_df[series] = golf_df[series].str.replace('T','')"
   ]
  },
  {
   "cell_type": "code",
   "execution_count": null,
   "metadata": {},
   "outputs": [],
   "source": [
    "golf_df"
   ]
  },
  {
   "cell_type": "code",
   "execution_count": null,
   "metadata": {},
   "outputs": [],
   "source": [
    "columns_sans_name = golf_df.columns.tolist()[1:]\n",
    "for col in columns_sans_name:\n",
    "    golf_df[col] = pd.to_numeric(golf_df[col])\n",
    "golf_df.info()"
   ]
  },
  {
   "cell_type": "code",
   "execution_count": null,
   "metadata": {},
   "outputs": [],
   "source": [
    "bins = 187 ** .5\n",
    "print(bins)\n",
    "\n"
   ]
  },
  {
   "cell_type": "code",
   "execution_count": null,
   "metadata": {},
   "outputs": [],
   "source": [
    "strokes_gained_columns = [golf_df.tee_strokes_gained, golf_df.approach_strokes_gained, golf_df.chip_strokes_gained, golf_df.putt_strokes_gained]\n",
    "\n",
    "for series in strokes_gained_columns:\n",
    "    fig, ax = plt.subplots()\n",
    "    ax.hist(series, 14)\n",
    "    ax.set_xlabel(series.name)\n",
    "    ax.set_ylabel('frequency')"
   ]
  },
  {
   "cell_type": "code",
   "execution_count": null,
   "metadata": {},
   "outputs": [],
   "source": [
    "temp = golf_df.copy()\n",
    "temp['LONG_STROKES_GAINED'] = (temp['tee_strokes_gained'] + temp['approach_strokes_gained']) /2\n",
    "long_game_sorted = temp.sort_values('LONG_STROKES_GAINED', ascending = False)\n",
    "long_game_sorted['LONG_GAME_RANK'] = long_game_sorted['LONG_STROKES_GAINED'].rank( ascending = False)"
   ]
  },
  {
   "cell_type": "code",
   "execution_count": null,
   "metadata": {},
   "outputs": [],
   "source": [
    "tempo = golf_df.copy()\n",
    "tempo['SHORT_STROKES_GAINED'] = (tempo['chip_strokes_gained'] + tempo['putt_strokes_gained'])/2\n",
    "short_game_sorted = tempo.sort_values('SHORT_STROKES_GAINED', ascending = False)\n",
    "short_game_sorted['SHORT_GAME_RANK'] = short_game_sorted['SHORT_STROKES_GAINED'].rank(ascending = False)"
   ]
  },
  {
   "cell_type": "code",
   "execution_count": null,
   "metadata": {},
   "outputs": [],
   "source": [
    "golf_df['LONG_GAME_RANK'] = long_game_sorted['LONG_GAME_RANK']\n",
    "golf_df['LONG_STROKES_GAINED'] = long_game_sorted['LONG_STROKES_GAINED']\n",
    "golf_df['SHORT_GAME_RANK'] = short_game_sorted['SHORT_GAME_RANK']\n",
    "golf_df['SHORT_STROKES_GAINED'] = short_game_sorted['SHORT_STROKES_GAINED']\n",
    "golf_df"
   ]
  },
  {
   "cell_type": "code",
   "execution_count": null,
   "metadata": {},
   "outputs": [],
   "source": [
    "fig, ax = plt.subplots()\n",
    "ax.hist(golf_df['LONG_STROKES_GAINED'])\n",
    "ax.set_xlabel('Long Strokes Gained')\n",
    "ax.set_ylabel('frequency')"
   ]
  },
  {
   "cell_type": "code",
   "execution_count": null,
   "metadata": {},
   "outputs": [],
   "source": [
    "fig, ax = plt.subplots()\n",
    "ax.hist(golf_df['SHORT_STROKES_GAINED'])\n",
    "ax.set_xlabel('Short Strokes Gained')\n",
    "ax.set_ylabel('frequency')"
   ]
  },
  {
   "cell_type": "code",
   "execution_count": null,
   "metadata": {},
   "outputs": [],
   "source": [
    "short_game_bool = golf_df['SHORT_STROKES_GAINED'] > 0\n",
    "short_gamers = golf_df[short_game_bool]\n",
    "short_gamers"
   ]
  },
  {
   "cell_type": "code",
   "execution_count": null,
   "metadata": {},
   "outputs": [],
   "source": [
    "long_game_bool = golf_df['LONG_STROKES_GAINED'] > 0\n",
    "long_gamers = golf_df[long_game_bool]\n",
    "long_gamers"
   ]
  },
  {
   "cell_type": "code",
   "execution_count": null,
   "metadata": {},
   "outputs": [],
   "source": [
    "fig, ax = plt.subplots()\n",
    "ax.hist(golf_df['scoring_average'])\n",
    "ax.set_xlabel('Population scoring averages')\n",
    "ax.set_ylabel('frequency')"
   ]
  },
  {
   "cell_type": "code",
   "execution_count": null,
   "metadata": {},
   "outputs": [],
   "source": [
    "long_gamers_scoring = long_gamers['scoring_average']\n",
    "short_gamers_scoring = short_gamers['scoring_average']\n",
    "long_game_mean = long_gamers_scoring.mean()\n",
    "short_game_mean = short_gamers_scoring.mean()"
   ]
  },
  {
   "cell_type": "code",
   "execution_count": null,
   "metadata": {},
   "outputs": [],
   "source": [
    "fig, ax = plt.subplots()\n",
    "ax.hist(long_gamers_scoring,alpha=0.3,bins=5,label='Long-gamers') #density = True\n",
    "ax.hist(short_gamers_scoring,alpha=0.3,bins=5,label='Short-gamers') #density = True\n",
    "ax.set_xlabel('Scoring Average')\n",
    "ax.set_ylabel('Frequency ')\n",
    "ax.legend();"
   ]
  },
  {
   "cell_type": "code",
   "execution_count": null,
   "metadata": {},
   "outputs": [],
   "source": [
    "#null 1, the averages are equal"
   ]
  },
  {
   "cell_type": "code",
   "execution_count": null,
   "metadata": {},
   "outputs": [],
   "source": [
    "def welch_test_statistic(sample_1, sample_2):\n",
    "    numerator = np.mean(sample_1) - np.mean(sample_2)\n",
    "    denominator_sq = (np.var(sample_1) / len(sample_1)) + \\\n",
    "                        (np.var(sample_2) / len(sample_2))\n",
    "    return numerator / np.sqrt(denominator_sq)"
   ]
  },
  {
   "cell_type": "code",
   "execution_count": null,
   "metadata": {},
   "outputs": [],
   "source": [
    "long_vs_short_test_stat = welch_test_statistic(long_gamers_scoring, short_gamers_scoring)\n",
    "print(\"Welch Test Statistic: {:2.2f}\".format(long_vs_short_test_stat))"
   ]
  },
  {
   "cell_type": "code",
   "execution_count": null,
   "metadata": {},
   "outputs": [],
   "source": [
    "def welch_satterhwaithe_df(sample_1, sample_2):\n",
    "    ss1 = len(sample_1)\n",
    "    ss2 = len(sample_2)\n",
    "    df = (\n",
    "        ((np.var(sample_1)/ss1 + np.var(sample_2)/ss2)**(2.0)) / \n",
    "        ((np.var(sample_1)/ss1)**(2.0)/(ss1 - 1) + (np.var(sample_2)/ss2)**(2.0)/(ss2 - 1))\n",
    "    )\n",
    "    return df"
   ]
  },
  {
   "cell_type": "code",
   "execution_count": null,
   "metadata": {},
   "outputs": [],
   "source": [
    "deg_free = welch_satterhwaithe_df(long_gamers_scoring, short_gamers_scoring)\n",
    "print(\"Degrees of Freedom for Welch's Test: {:2.2f}\".format(deg_free))"
   ]
  },
  {
   "cell_type": "code",
   "execution_count": null,
   "metadata": {},
   "outputs": [],
   "source": [
    "#choose alpha .05"
   ]
  },
  {
   "cell_type": "code",
   "execution_count": null,
   "metadata": {},
   "outputs": [],
   "source": [
    "t_dist = stats.t(deg_free)\n",
    "p_different_means = t_dist.cdf(long_vs_short_test_stat) + (1 - t_dist.cdf(-long_vs_short_test_stat))\n",
    "print(\"p-value for different average score: {:2.2f}\".format(p_different_means))"
   ]
  },
  {
   "cell_type": "code",
   "execution_count": null,
   "metadata": {},
   "outputs": [],
   "source": [
    "#fail to reject null hypothesis"
   ]
  },
  {
   "cell_type": "code",
   "execution_count": null,
   "metadata": {},
   "outputs": [],
   "source": [
    "drivers_bool = golf_df['tee_strokes_gained'] > 0\n",
    "drivers = golf_df[drivers_bool]\n",
    "drivers"
   ]
  },
  {
   "cell_type": "code",
   "execution_count": null,
   "metadata": {},
   "outputs": [],
   "source": [
    "putters_bool = golf_df['putt_strokes_gained'] > 0\n",
    "putters = golf_df[putters_bool]\n",
    "putters"
   ]
  },
  {
   "cell_type": "code",
   "execution_count": null,
   "metadata": {},
   "outputs": [],
   "source": [
    "drivers_scoring = drivers['scoring_average']\n",
    "putters_scoring = putters['scoring_average']\n",
    "drivers_mean = drivers_scoring.mean()\n",
    "putters_mean = putters_scoring.mean()"
   ]
  },
  {
   "cell_type": "code",
   "execution_count": null,
   "metadata": {},
   "outputs": [],
   "source": [
    "fig, ax = plt.subplots()\n",
    "ax.hist(drivers_scoring,alpha=0.3,bins=5,label='Drivers') #density = True\n",
    "ax.hist(putters_scoring,alpha=0.3,bins=5,label='Putters') #density = True\n",
    "ax.set_xlabel('Scoring Average')\n",
    "ax.set_ylabel('Frequency ')\n",
    "ax.legend();"
   ]
  },
  {
   "cell_type": "code",
   "execution_count": null,
   "metadata": {},
   "outputs": [],
   "source": [
    "#null 1 the means are equal"
   ]
  },
  {
   "cell_type": "code",
   "execution_count": null,
   "metadata": {},
   "outputs": [],
   "source": [
    "drive_vs_putt_test_stat = welch_test_statistic(drivers_scoring, putters_scoring)\n",
    "print(\"Welch Test Statistic: {:2.2f}\".format(drive_vs_putt_test_stat))"
   ]
  },
  {
   "cell_type": "code",
   "execution_count": null,
   "metadata": {},
   "outputs": [],
   "source": [
    "deg_free2 = welch_satterhwaithe_df(drivers_scoring, putters_scoring)\n",
    "print(\"Degrees of Freedom for Welch's Test: {:2.2f}\".format(deg_free2))"
   ]
  },
  {
   "cell_type": "code",
   "execution_count": null,
   "metadata": {},
   "outputs": [],
   "source": [
    "t_dist = stats.t(deg_free2)\n",
    "p_different_means = t_dist.cdf(drive_vs_putt_test_stat) + (1 - t_dist.cdf(-drive_vs_putt_test_stat))\n",
    "print(\"p-value for different average score: {:2.2f}\".format(p_different_means))"
   ]
  },
  {
   "cell_type": "code",
   "execution_count": 7,
   "metadata": {},
   "outputs": [],
   "source": [
    "#fail to reject null hypothesis"
   ]
  },
  {
   "cell_type": "code",
   "execution_count": null,
   "metadata": {},
   "outputs": [],
   "source": []
  }
 ],
 "metadata": {
  "kernelspec": {
   "display_name": "Python 3",
   "language": "python",
   "name": "python3"
  },
  "language_info": {
   "codemirror_mode": {
    "name": "ipython",
    "version": 3
   },
   "file_extension": ".py",
   "mimetype": "text/x-python",
   "name": "python",
   "nbconvert_exporter": "python",
   "pygments_lexer": "ipython3",
   "version": "3.7.7"
  }
 },
 "nbformat": 4,
 "nbformat_minor": 4
}
